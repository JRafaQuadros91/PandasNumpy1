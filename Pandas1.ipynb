{
  "nbformat": 4,
  "nbformat_minor": 0,
  "metadata": {
    "kernelspec": {
      "display_name": "Python 3",
      "language": "python",
      "name": "python3"
    },
    "language_info": {
      "codemirror_mode": {
        "name": "ipython",
        "version": 3
      },
      "file_extension": ".py",
      "mimetype": "text/x-python",
      "name": "python",
      "nbconvert_exporter": "python",
      "pygments_lexer": "ipython3",
      "version": "3.6.8"
    },
    "colab": {
      "name": "João Rafael - T1_1-TEC_TADS3",
      "provenance": [],
      "collapsed_sections": [],
      "include_colab_link": true
    }
  },
  "cells": [
    {
      "cell_type": "markdown",
      "metadata": {
        "id": "view-in-github",
        "colab_type": "text"
      },
      "source": [
        "<a href=\"https://colab.research.google.com/github/JRafaQuadros91/PandasNumpy1/blob/main/Pandas1.ipynb\" target=\"_parent\"><img src=\"https://colab.research.google.com/assets/colab-badge.svg\" alt=\"Open In Colab\"/></a>"
      ]
    },
    {
      "cell_type": "markdown",
      "metadata": {
        "id": "5mi3xdXinDpW"
      },
      "source": [
        "# Trabalho Numpy"
      ]
    },
    {
      "cell_type": "markdown",
      "metadata": {
        "id": "vLJXffUQnDpb"
      },
      "source": [
        "**Item 1**  \n",
        "\n",
        "\n",
        "Crie um *array* numpy chamado `mult3` cotendo valores de 100 a 200, de forma que a diferença entre cada elemento seja 3. Em seguida, crie os *array* `multi3_12`, contendo apenas os valores do *array* `mult3` que são divisíveis por 12.\n",
        "\n"
      ]
    },
    {
      "cell_type": "code",
      "metadata": {
        "id": "XtAdMGtnnDpb",
        "outputId": "e0fcb7d4-b9ab-4603-e893-ed11a75f5f55",
        "colab": {
          "base_uri": "https://localhost:8080/"
        }
      },
      "source": [
        "import numpy as np\n",
        "\n",
        "mult3 = np.arange(100,201,3) \n",
        "  \n",
        "print(mult3, \"\\n\")\n",
        "\n",
        "\n",
        "#multi3_12teste = (mult3/12)\n",
        "\n",
        "#print(multi3_12teste, \"\\n\")\n",
        "\n",
        "#multi3_3 = (mult3/3)\n",
        "\n",
        "#print(multi3_3, \"\\n\")\n",
        "\n",
        "#multi3_4 = (mult3/4)\n",
        "\n",
        "#print(multi3_4, \"\\n\")\n",
        "\n",
        "#multi3_3teste = mult3[mult3 % 3 == 0]\n",
        "#multi3_4teste = mult3[mult3 % 4 == 0]\n",
        "\n",
        "\n",
        "#print(multi3_3teste, \"\\n\")\n",
        "#print(multi3_4teste, \"\\n\")\n",
        "\n",
        "\n",
        "#multi3_12 = np.concatenate((multi3_3teste, multi3_4teste), axis=None)\n",
        "\n",
        "#multi3_12 = ((mult3[mult3 % 3 == 0]) & (mult3[mult3 % 4 == 0]))\n",
        "\n",
        "multi3_12 = ((mult3[mult3 % 3 == 0]) and (mult3[mult3 % 4 == 0]))\n",
        "\n",
        "#multi3_12 = np.logical_and(mult3[mult3 % 3 == 0, mult3[mult3 % 4 == 0])\n",
        "\n",
        "print(multi3_12,\"\\n\")\n",
        "\n"
      ],
      "execution_count": null,
      "outputs": [
        {
          "output_type": "stream",
          "text": [
            "[100 103 106 109 112 115 118 121 124 127 130 133 136 139 142 145 148 151\n",
            " 154 157 160 163 166 169 172 175 178 181 184 187 190 193 196 199] \n",
            "\n",
            "[] \n",
            "\n"
          ],
          "name": "stdout"
        },
        {
          "output_type": "stream",
          "text": [
            "/usr/local/lib/python3.7/dist-packages/ipykernel_launcher.py:32: DeprecationWarning: The truth value of an empty array is ambiguous. Returning False, but in future this will result in an error. Use `array.size > 0` to check that an array is not empty.\n"
          ],
          "name": "stderr"
        }
      ]
    },
    {
      "cell_type": "markdown",
      "metadata": {
        "id": "aJDzWyn4nDpc"
      },
      "source": [
        "**Item 2**  \n",
        "\n",
        "\n",
        "Plote o gráfico da equação\n",
        "\n",
        "$$y=–x^2+2x+16$$\n",
        "\n",
        "\n",
        "Plote também uma reta paralela ao eixo $x$, de forma que a reta passa pelo ponto mais alto da equação. Utilize diferentes cores para cada gráfico. Considere $x$ no intervalo $[-3,5]$, com 100 pontos.  \n"
      ]
    },
    {
      "cell_type": "code",
      "metadata": {
        "id": "XV8A85RVnDpc",
        "outputId": "6c9d3ec6-0a78-4831-e5b5-70a0b6eb7102",
        "colab": {
          "base_uri": "https://localhost:8080/",
          "height": 282
        }
      },
      "source": [
        "import math\n",
        "import numpy as np\n",
        "import matplotlib.pyplot as plt\n",
        "\n",
        "coeficientes=[-1,2,16]\n",
        "#limite1 = -3\n",
        "#limite2 = 5\n",
        "#n=100\n",
        "x=np.linspace(-3,5,100)\n",
        "y0=np.polyval([-1**2,2,15],x) # 16 seria o ponto do vertice da parabola, o ponto mais alto onde toca o eixo X, se colocar 16 na terceira casa da equação ao invez de 15 ele passa do valor, não entendi o porque.\n",
        "y1= np.linspace(-3,5,100)\n",
        "y1.fill(max(y0))\n",
        "plt.plot(x,y0,c='blue')\n",
        "plt.plot(x,y1,c='green')"
      ],
      "execution_count": null,
      "outputs": [
        {
          "output_type": "execute_result",
          "data": {
            "text/plain": [
              "[<matplotlib.lines.Line2D at 0x7f0ea0707d50>]"
            ]
          },
          "metadata": {
            "tags": []
          },
          "execution_count": 2
        },
        {
          "output_type": "display_data",
          "data": {
            "image/png": "[encoded data removed]",
            "text/plain": [
              "<Figure size 432x288 with 1 Axes>"
            ]
          },
          "metadata": {
            "tags": [],
            "needs_background": "light"
          }
        }
      ]
    }
  ]
}